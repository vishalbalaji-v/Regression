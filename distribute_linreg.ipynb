{
  "nbformat": 4,
  "nbformat_minor": 0,
  "metadata": {
    "anaconda-cloud": {},
    "kernelspec": {
      "display_name": "ml1-arm64",
      "language": "python",
      "name": "ml1-arm64"
    },
    "language_info": {
      "codemirror_mode": {
        "name": "ipython",
        "version": 3
      },
      "file_extension": ".py",
      "mimetype": "text/x-python",
      "name": "python",
      "nbconvert_exporter": "python",
      "pygments_lexer": "ipython3",
      "version": "3.9.1"
    },
    "nteract": {
      "version": "0.7.1"
    },
    "colab": {
      "name": "linreg.ipynb",
      "provenance": []
    }
  },
  "cells": [
    {
      "cell_type": "markdown",
      "metadata": {
        "id": "F-qjsO3-CyTH"
      },
      "source": [
        "# My copy - Linear Regression Multiple Ways"
      ]
    },
    {
      "cell_type": "markdown",
      "metadata": {
        "id": "vhI2fAh1C360"
      },
      "source": [
        "bold text!git init; git pull https://github.com/YOUR_USERNAME/Regression.git"
      ]
    },
    {
      "cell_type": "code",
      "metadata": {
        "id": "sF_8zd_zsRI0",
        "outputId": "03c21fb6-3d1f-4023-d579-4c778958fa55",
        "colab": {
          "base_uri": "https://localhost:8080/"
        }
      },
      "source": [
        "!git init; git pull https://github.com/vishalbalaji-v/Regression.git"
      ],
      "execution_count": 2,
      "outputs": [
        {
          "output_type": "stream",
          "text": [
            "Initialized empty Git repository in /content/.git/\n",
            "remote: Enumerating objects: 160, done.\u001b[K\n",
            "remote: Counting objects: 100% (160/160), done.\u001b[K\n",
            "remote: Compressing objects: 100% (159/159), done.\u001b[K\n",
            "remote: Total 160 (delta 2), reused 156 (delta 0), pack-reused 0\u001b[K\n",
            "Receiving objects: 100% (160/160), 19.11 MiB | 31.77 MiB/s, done.\n",
            "Resolving deltas: 100% (2/2), done.\n",
            "From https://github.com/vishalbalaji-v/Regression\n",
            " * branch            HEAD       -> FETCH_HEAD\n"
          ],
          "name": "stdout"
        }
      ]
    },
    {
      "cell_type": "code",
      "metadata": {
        "id": "_bO01h8gte0z",
        "outputId": "d938e389-a55e-4de3-aece-a9f5e1c2a25b",
        "colab": {
          "base_uri": "https://localhost:8080/"
        }
      },
      "source": [
        "!ls"
      ],
      "execution_count": 3,
      "outputs": [
        {
          "output_type": "stream",
          "text": [
            "distribute_linreg.ipynb  lecture.pdf   README.md\n",
            "images\t\t\t linreg.ipynb  sample_data\n"
          ],
          "name": "stdout"
        }
      ]
    },
    {
      "cell_type": "markdown",
      "metadata": {
        "id": "RBBWZsb3CyTO"
      },
      "source": [
        "## Making the data\n",
        "\n",
        "We'll first construct a synthetic data set..using a function from the `scikit-learn` library. Synthetic data is nice in the sense that we can constrain how the noise behaves, and thus isolate effects."
      ]
    },
    {
      "cell_type": "code",
      "metadata": {
        "id": "yDBQLvGDCyTP"
      },
      "source": [
        "%matplotlib inline\n",
        "from sklearn.datasets import make_regression\n",
        "import numpy as np\n",
        "import matplotlib.pyplot as plt"
      ],
      "execution_count": 4,
      "outputs": []
    },
    {
      "cell_type": "markdown",
      "metadata": {
        "id": "SoCW2nSyCyTR"
      },
      "source": [
        "This data is generated from the canonical generating process assumed for linear regression: a gaussian distribution centered at the regression line on the y axis."
      ]
    },
    {
      "cell_type": "code",
      "metadata": {
        "id": "MQ4g4sN9CyTR"
      },
      "source": [
        "#code adapted from http://tillbergmann.com/blog/python-gradient-descent.html\n",
        "X, y, coef = make_regression(n_samples = 100, \n",
        "                       n_features=1, \n",
        "                       noise=20,\n",
        "                       random_state=2017,\n",
        "                       bias=0.0,\n",
        "                       coef=True)"
      ],
      "execution_count": 42,
      "outputs": []
    },
    {
      "cell_type": "code",
      "metadata": {
        "id": "62sdD_YRu12u",
        "outputId": "5f541146-583c-4737-dab4-cfb66394f01d",
        "colab": {
          "base_uri": "https://localhost:8080/"
        }
      },
      "source": [
        "X.shape,y.shape"
      ],
      "execution_count": 11,
      "outputs": [
        {
          "output_type": "execute_result",
          "data": {
            "text/plain": [
              "((100, 1), (100,))"
            ]
          },
          "metadata": {
            "tags": []
          },
          "execution_count": 11
        }
      ]
    },
    {
      "cell_type": "markdown",
      "metadata": {
        "id": "Q98EPmtRCyTS"
      },
      "source": [
        "Notice that the X is in the canonical array-of-arrays format.\n",
        "**Try and print its shape**"
      ]
    },
    {
      "cell_type": "code",
      "metadata": {
        "id": "iNpyFGTeCyTS"
      },
      "source": [
        "# your code here"
      ],
      "execution_count": 14,
      "outputs": []
    },
    {
      "cell_type": "markdown",
      "metadata": {
        "id": "ij_miKEiCyTU"
      },
      "source": [
        "We are fitting a model with an intercept. Lets see what it is."
      ]
    },
    {
      "cell_type": "code",
      "metadata": {
        "colab": {
          "base_uri": "https://localhost:8080/"
        },
        "id": "5STse-DGCyTU",
        "outputId": "6e56a573-dcc3-4dd6-b5ee-c9c44401edd5"
      },
      "source": [
        "coef"
      ],
      "execution_count": 15,
      "outputs": [
        {
          "output_type": "execute_result",
          "data": {
            "text/plain": [
              "array(80.88336208)"
            ]
          },
          "metadata": {
            "tags": []
          },
          "execution_count": 15
        }
      ]
    },
    {
      "cell_type": "markdown",
      "metadata": {
        "id": "nRSyktEDCyTV"
      },
      "source": [
        "We can plot the data."
      ]
    },
    {
      "cell_type": "code",
      "metadata": {
        "colab": {
          "base_uri": "https://localhost:8080/",
          "height": 265
        },
        "id": "f34COrzrCyTV",
        "outputId": "c137a031-2b94-4103-aad2-198c0505d6f3"
      },
      "source": [
        "plt.plot(X,y, 'o');"
      ],
      "execution_count": 43,
      "outputs": [
        {
          "output_type": "display_data",
          "data": {
            "image/png": "[encoded data removed]",
            "text/plain": [
              "<Figure size 432x288 with 1 Axes>"
            ]
          },
          "metadata": {
            "tags": [],
            "needs_background": "light"
          }
        }
      ]
    },
    {
      "cell_type": "markdown",
      "metadata": {
        "id": "BBwzhUNYCyTW"
      },
      "source": [
        "For the purposes of drawing the regression line, lets create a uniform grid of points, and then reshape it into the canonical format"
      ]
    },
    {
      "cell_type": "code",
      "metadata": {
        "id": "jmedjoqJCyTX"
      },
      "source": [
        "xgrid = np.linspace(-2.5,2.5,1000)\n",
        "Xgrid = xgrid.reshape(-1,1)"
      ],
      "execution_count": 23,
      "outputs": []
    },
    {
      "cell_type": "code",
      "metadata": {
        "id": "gyMPobRswjCe"
      },
      "source": [
        ""
      ],
      "execution_count": 28,
      "outputs": []
    },
    {
      "cell_type": "markdown",
      "metadata": {
        "id": "-Qx4TklhCyTY"
      },
      "source": [
        "## Fit using sklearn"
      ]
    },
    {
      "cell_type": "code",
      "metadata": {
        "id": "ecdZyQdpCyTY"
      },
      "source": [
        "from sklearn.linear_model import LinearRegression"
      ],
      "execution_count": 24,
      "outputs": []
    },
    {
      "cell_type": "code",
      "metadata": {
        "colab": {
          "base_uri": "https://localhost:8080/"
        },
        "id": "NN8FEHXqCyTY",
        "outputId": "00d3de8b-36c2-4c15-85b3-5b41c6bc9835"
      },
      "source": [
        "lr = LinearRegression()\n",
        "lr.fit(X,y) # fit the model with the existing data\n",
        "ypgrid = lr.predict(Xgrid) # now predict it on the grid\n",
        "lr.coef_, lr.intercept_ # get the slope and the intercept"
      ],
      "execution_count": 26,
      "outputs": [
        {
          "output_type": "execute_result",
          "data": {
            "text/plain": [
              "(array([82.90456142]), -3.709228868670302)"
            ]
          },
          "metadata": {
            "tags": []
          },
          "execution_count": 26
        }
      ]
    },
    {
      "cell_type": "markdown",
      "metadata": {
        "id": "ihlAru1ACyTY"
      },
      "source": [
        "Notice that the slope and the intercept are not what we fed into the model, but close. This is because the model fitted depends on the exact way points were generated.."
      ]
    },
    {
      "cell_type": "code",
      "metadata": {
        "colab": {
          "base_uri": "https://localhost:8080/",
          "height": 282
        },
        "id": "xThEkz-FCyTZ",
        "outputId": "0c734527-6046-46b8-c303-c4d70119b4d8"
      },
      "source": [
        "plt.plot(Xgrid, ypgrid)\n",
        "plt.plot(X, y, '.')"
      ],
      "execution_count": 27,
      "outputs": [
        {
          "output_type": "execute_result",
          "data": {
            "text/plain": [
              "[<matplotlib.lines.Line2D at 0x7f227f147a58>]"
            ]
          },
          "metadata": {
            "tags": []
          },
          "execution_count": 27
        },
        {
          "output_type": "display_data",
          "data": {
            "image/png": "[encoded data removed]",
            "text/plain": [
              "<Figure size 432x288 with 1 Axes>"
            ]
          },
          "metadata": {
            "tags": [],
            "needs_background": "light"
          }
        }
      ]
    },
    {
      "cell_type": "code",
      "metadata": {
        "id": "4vs9Qhf2CyTa"
      },
      "source": [
        "from sklearn.metrics import r2_score"
      ],
      "execution_count": 29,
      "outputs": []
    },
    {
      "cell_type": "code",
      "metadata": {
        "colab": {
          "base_uri": "https://localhost:8080/"
        },
        "id": "HGmhfmAjCyTa",
        "outputId": "eac526d8-cff9-433f-d179-72e3df12fd08"
      },
      "source": [
        "r2_score(y, lr.predict(X))"
      ],
      "execution_count": 30,
      "outputs": [
        {
          "output_type": "execute_result",
          "data": {
            "text/plain": [
              "0.9342344891672815"
            ]
          },
          "metadata": {
            "tags": []
          },
          "execution_count": 30
        }
      ]
    },
    {
      "cell_type": "markdown",
      "metadata": {
        "id": "I7g78BarCyTb"
      },
      "source": [
        "## The impact of samples\n",
        "\n",
        "We'll sample 20 points from the data set. We do this by sampling 20 indices, index into X and y, and then fit on the sample"
      ]
    },
    {
      "cell_type": "code",
      "metadata": {
        "id": "1ajLCrOWCyTb"
      },
      "source": [
        "sample_indices = np.random.choice(range(100), size=20, replace=False)\n",
        "sample_indices"
      ],
      "execution_count": null,
      "outputs": []
    },
    {
      "cell_type": "markdown",
      "metadata": {
        "id": "4qjIde5_CyTb"
      },
      "source": [
        "We create a sample by using the sample indices:"
      ]
    },
    {
      "cell_type": "code",
      "metadata": {
        "id": "A3fp5XwTCyTc"
      },
      "source": [
        "Xsample = X[sample_indices]\n",
        "ysample = y[sample_indices]"
      ],
      "execution_count": null,
      "outputs": []
    },
    {
      "cell_type": "markdown",
      "metadata": {
        "id": "lE3G5P4iCyTc"
      },
      "source": [
        "**Find the $R^2$ score of a fit to this sample, on this sample**"
      ]
    },
    {
      "cell_type": "code",
      "metadata": {
        "id": "BJ8M1Da1CyTc"
      },
      "source": [
        "# your code here\n"
      ],
      "execution_count": null,
      "outputs": []
    },
    {
      "cell_type": "markdown",
      "metadata": {
        "id": "JKo99KksCyTd"
      },
      "source": [
        "Lets check the sensitivity of our prediction to our sample. We'll do this 1000 times..that is we'll sample a new set of 20 points, "
      ]
    },
    {
      "cell_type": "code",
      "metadata": {
        "id": "SyD960zACyTe"
      },
      "source": [
        "scores = []\n",
        "models=[]\n",
        "for i in range(1000):\n",
        "    sample_indices = np.random.choice(range(100), size=20, replace=False)\n",
        "    Xsample = X[sample_indices]\n",
        "    ysample = y[sample_indices]\n",
        "    m = LinearRegression().fit(Xsample, ysample)\n",
        "    models.append(m)\n",
        "    scores.append(m.score(Xsample, ysample))\n",
        "plt.hist(scores,  bins=np.linspace(0.7, 1, 30))\n",
        "plt.xlim(0.7,1)"
      ],
      "execution_count": null,
      "outputs": []
    },
    {
      "cell_type": "markdown",
      "metadata": {
        "id": "vAqEUbtvCyTe"
      },
      "source": [
        "Let us check the slope and intercepts fitted on the different samples"
      ]
    },
    {
      "cell_type": "code",
      "metadata": {
        "id": "xMn-JQLkCyTe"
      },
      "source": [
        "plt.hist([models[i].coef_[0] for i in range(1000)], bins=10);\n",
        "plt.xlim([60, 100])"
      ],
      "execution_count": null,
      "outputs": []
    },
    {
      "cell_type": "code",
      "metadata": {
        "id": "teZnVAyICyTf"
      },
      "source": [
        "plt.hist([models[i].intercept_ for i in range(100)], bins=10);\n",
        "plt.xlim([-15, 10])"
      ],
      "execution_count": null,
      "outputs": []
    },
    {
      "cell_type": "markdown",
      "metadata": {
        "id": "8D5cIb07CyTf"
      },
      "source": [
        "## The impact of noise\n",
        "\n",
        "**Redo this with a higher amount of noise (about 400)**. For this you will need to create a new dataset. Plot the data. Plot the histogram of the R^2 as well as that of the coefficients."
      ]
    },
    {
      "cell_type": "code",
      "metadata": {
        "id": "YrW_wcIkCyTf"
      },
      "source": [
        "# your code here\n"
      ],
      "execution_count": null,
      "outputs": []
    },
    {
      "cell_type": "code",
      "metadata": {
        "id": "rq-nZKfDCyTg"
      },
      "source": [
        "# your code here\n"
      ],
      "execution_count": null,
      "outputs": []
    },
    {
      "cell_type": "code",
      "metadata": {
        "id": "UNcQhOJnCyTg"
      },
      "source": [
        "# your code here\n"
      ],
      "execution_count": null,
      "outputs": []
    },
    {
      "cell_type": "code",
      "metadata": {
        "id": "3fr4EJraCyTg"
      },
      "source": [
        "# your code here\n"
      ],
      "execution_count": null,
      "outputs": []
    },
    {
      "cell_type": "markdown",
      "metadata": {
        "id": "0IkDhVVnCyTg"
      },
      "source": [
        "## Impact of sample size\n",
        "\n",
        "Going back to the original dataset with less noise, now fetch smaller size samples  (10 data points each) and repeat"
      ]
    },
    {
      "cell_type": "code",
      "metadata": {
        "id": "vSHJRIJkCyTh"
      },
      "source": [
        "# your code here\n"
      ],
      "execution_count": null,
      "outputs": []
    },
    {
      "cell_type": "code",
      "metadata": {
        "id": "kO7MH8z3CyTh"
      },
      "source": [
        "# your code here\n"
      ],
      "execution_count": null,
      "outputs": []
    },
    {
      "cell_type": "code",
      "metadata": {
        "id": "Sn0zwqBuCyTh"
      },
      "source": [
        "plt.hist([models[i].intercept_ for i in range(100)], bins=10);\n",
        "plt.xlim([-15, 10])"
      ],
      "execution_count": null,
      "outputs": []
    },
    {
      "cell_type": "markdown",
      "metadata": {
        "id": "BeErYPb9CyTi"
      },
      "source": [
        "## Testing and training\n",
        "\n",
        "A grid like the one we created might contain some of the points we fit this model on. This is called **Data Contamination** and is a big no-no. If we want an independent estimate of the error, we should hold out some points in a test set. Then we want to guarantee that there is no overlap between the initial sample, or **training set**, and the test set."
      ]
    },
    {
      "cell_type": "code",
      "metadata": {
        "id": "vxJH20BmCyTi"
      },
      "source": [
        "from sklearn.model_selection import train_test_split"
      ],
      "execution_count": 33,
      "outputs": []
    },
    {
      "cell_type": "code",
      "metadata": {
        "id": "ZBRKTAcGCyTi"
      },
      "source": [
        "Xtrain, Xtest, ytrain, ytest = train_test_split(X, y, test_size=0.2, random_state=2017)"
      ],
      "execution_count": 34,
      "outputs": []
    },
    {
      "cell_type": "markdown",
      "metadata": {
        "id": "ASm-rgK_CyTi"
      },
      "source": [
        "Now lets fit the model on the training set and evaluate it both on the training set and the test set. We print the R^2"
      ]
    },
    {
      "cell_type": "code",
      "metadata": {
        "id": "1IqnGc1iCyTi"
      },
      "source": [
        "lr2 = LinearRegression().fit(Xtrain, ytrain)\n",
        "r2_test = r2_score(ytest, lr.predict(Xtest))\n",
        "r2_train = r2_score(ytrain, lr.predict(Xtrain))"
      ],
      "execution_count": 35,
      "outputs": []
    },
    {
      "cell_type": "code",
      "metadata": {
        "colab": {
          "base_uri": "https://localhost:8080/",
          "height": 35
        },
        "id": "x_tnvbNfCyTj",
        "outputId": "f66f3607-f1c7-4f02-de63-8582dc10ea91"
      },
      "source": [
        "\"Train R2 is {}, while test R^2 is {}\".format(r2_train, r2_test)"
      ],
      "execution_count": 36,
      "outputs": [
        {
          "output_type": "execute_result",
          "data": {
            "application/vnd.google.colaboratory.intrinsic+json": {
              "type": "string"
            },
            "text/plain": [
              "'Train R2 is 0.9302930567263316, while test R^2 is 0.9446796445954511'"
            ]
          },
          "metadata": {
            "tags": []
          },
          "execution_count": 36
        }
      ]
    },
    {
      "cell_type": "markdown",
      "metadata": {
        "id": "_bRVGa0ACyTj"
      },
      "source": [
        "## Using Keras to fit the model\n",
        "\n",
        "We'll use SGD (we could have used plain and simple gradient descent, why?) and Keras's Sequential API"
      ]
    },
    {
      "cell_type": "code",
      "metadata": {
        "colab": {
          "base_uri": "https://localhost:8080/"
        },
        "id": "CQsuCh9hCyTj",
        "outputId": "98e4ddea-8f42-41b9-a239-9dd4f154ac58"
      },
      "source": [
        "from keras.models import Sequential\n",
        "from keras.layers import Dense\n",
        "lr3 = Sequential()\n",
        "lr3.add(Dense(1, input_shape=(1,)))\n",
        "lr3.compile(optimizer='sgd', loss='mean_squared_error',  metrics=['mse','accuracy'])\n",
        "lr3.summary()"
      ],
      "execution_count": 31,
      "outputs": [
        {
          "output_type": "stream",
          "text": [
            "Model: \"sequential\"\n",
            "_________________________________________________________________\n",
            "Layer (type)                 Output Shape              Param #   \n",
            "=================================================================\n",
            "dense (Dense)                (None, 1)                 2         \n",
            "=================================================================\n",
            "Total params: 2\n",
            "Trainable params: 2\n",
            "Non-trainable params: 0\n",
            "_________________________________________________________________\n"
          ],
          "name": "stdout"
        }
      ]
    },
    {
      "cell_type": "code",
      "metadata": {
        "colab": {
          "base_uri": "https://localhost:8080/"
        },
        "id": "2miJgYFLCyTk",
        "outputId": "2fec310e-4e06-464d-9030-b0382203f678"
      },
      "source": [
        "history = lr3.fit(Xtrain, ytrain, epochs=100, batch_size=20)"
      ],
      "execution_count": 37,
      "outputs": [
        {
          "output_type": "stream",
          "text": [
            "Epoch 1/100\n",
            "4/4 [==============================] - 1s 2ms/step - loss: 4715.3380 - mse: 4715.3380 - accuracy: 0.0000e+00\n",
            "Epoch 2/100\n",
            "4/4 [==============================] - 0s 1ms/step - loss: 5262.7364 - mse: 5262.7364 - accuracy: 0.0000e+00\n",
            "Epoch 3/100\n",
            "4/4 [==============================] - 0s 1ms/step - loss: 3859.0216 - mse: 3859.0220 - accuracy: 0.0000e+00\n",
            "Epoch 4/100\n",
            "4/4 [==============================] - 0s 2ms/step - loss: 3724.6060 - mse: 3724.6060 - accuracy: 0.0000e+00\n",
            "Epoch 5/100\n",
            "4/4 [==============================] - 0s 2ms/step - loss: 3277.3542 - mse: 3277.3542 - accuracy: 0.0000e+00\n",
            "Epoch 6/100\n",
            "4/4 [==============================] - 0s 2ms/step - loss: 3462.0750 - mse: 3462.0750 - accuracy: 0.0000e+00\n",
            "Epoch 7/100\n",
            "4/4 [==============================] - 0s 2ms/step - loss: 3231.6796 - mse: 3231.6799 - accuracy: 0.0000e+00\n",
            "Epoch 8/100\n",
            "4/4 [==============================] - 0s 2ms/step - loss: 2713.4370 - mse: 2713.4370 - accuracy: 0.0000e+00\n",
            "Epoch 9/100\n",
            "4/4 [==============================] - 0s 2ms/step - loss: 2012.1011 - mse: 2012.1012 - accuracy: 0.0000e+00\n",
            "Epoch 10/100\n",
            "4/4 [==============================] - 0s 2ms/step - loss: 2377.6206 - mse: 2377.6204 - accuracy: 0.0000e+00\n",
            "Epoch 11/100\n",
            "4/4 [==============================] - 0s 3ms/step - loss: 1758.3548 - mse: 1758.3548 - accuracy: 0.0000e+00\n",
            "Epoch 12/100\n",
            "4/4 [==============================] - 0s 3ms/step - loss: 1944.8882 - mse: 1944.8882 - accuracy: 0.0000e+00\n",
            "Epoch 13/100\n",
            "4/4 [==============================] - 0s 2ms/step - loss: 1476.1642 - mse: 1476.1642 - accuracy: 0.0000e+00\n",
            "Epoch 14/100\n",
            "4/4 [==============================] - 0s 3ms/step - loss: 1421.3835 - mse: 1421.3836 - accuracy: 0.0000e+00\n",
            "Epoch 15/100\n",
            "4/4 [==============================] - 0s 3ms/step - loss: 1304.9374 - mse: 1304.9374 - accuracy: 0.0000e+00\n",
            "Epoch 16/100\n",
            "4/4 [==============================] - 0s 2ms/step - loss: 1264.3343 - mse: 1264.3343 - accuracy: 0.0000e+00\n",
            "Epoch 17/100\n",
            "4/4 [==============================] - 0s 3ms/step - loss: 1082.8926 - mse: 1082.8926 - accuracy: 0.0000e+00\n",
            "Epoch 18/100\n",
            "4/4 [==============================] - 0s 2ms/step - loss: 920.5736 - mse: 920.5736 - accuracy: 0.0000e+00\n",
            "Epoch 19/100\n",
            "4/4 [==============================] - 0s 2ms/step - loss: 930.5144 - mse: 930.5144 - accuracy: 0.0000e+00\n",
            "Epoch 20/100\n",
            "4/4 [==============================] - 0s 2ms/step - loss: 843.6182 - mse: 843.6182 - accuracy: 0.0000e+00\n",
            "Epoch 21/100\n",
            "4/4 [==============================] - 0s 2ms/step - loss: 864.2211 - mse: 864.2211 - accuracy: 0.0000e+00\n",
            "Epoch 22/100\n",
            "4/4 [==============================] - 0s 2ms/step - loss: 823.9986 - mse: 823.9986 - accuracy: 0.0000e+00\n",
            "Epoch 23/100\n",
            "4/4 [==============================] - 0s 2ms/step - loss: 742.5770 - mse: 742.5770 - accuracy: 0.0000e+00\n",
            "Epoch 24/100\n",
            "4/4 [==============================] - 0s 2ms/step - loss: 707.7055 - mse: 707.7055 - accuracy: 0.0000e+00\n",
            "Epoch 25/100\n",
            "4/4 [==============================] - 0s 2ms/step - loss: 716.5617 - mse: 716.5617 - accuracy: 0.0000e+00\n",
            "Epoch 26/100\n",
            "4/4 [==============================] - 0s 2ms/step - loss: 596.2933 - mse: 596.2933 - accuracy: 0.0000e+00\n",
            "Epoch 27/100\n",
            "4/4 [==============================] - 0s 2ms/step - loss: 560.0401 - mse: 560.0401 - accuracy: 0.0000e+00\n",
            "Epoch 28/100\n",
            "4/4 [==============================] - 0s 4ms/step - loss: 623.7107 - mse: 623.7107 - accuracy: 0.0000e+00\n",
            "Epoch 29/100\n",
            "4/4 [==============================] - 0s 2ms/step - loss: 542.3052 - mse: 542.3052 - accuracy: 0.0000e+00\n",
            "Epoch 30/100\n",
            "4/4 [==============================] - 0s 2ms/step - loss: 581.2567 - mse: 581.2567 - accuracy: 0.0000e+00\n",
            "Epoch 31/100\n",
            "4/4 [==============================] - 0s 2ms/step - loss: 545.0224 - mse: 545.0224 - accuracy: 0.0000e+00\n",
            "Epoch 32/100\n",
            "4/4 [==============================] - 0s 2ms/step - loss: 467.8089 - mse: 467.8089 - accuracy: 0.0000e+00\n",
            "Epoch 33/100\n",
            "4/4 [==============================] - 0s 2ms/step - loss: 490.7158 - mse: 490.7158 - accuracy: 0.0000e+00\n",
            "Epoch 34/100\n",
            "4/4 [==============================] - 0s 2ms/step - loss: 451.2659 - mse: 451.2659 - accuracy: 0.0000e+00\n",
            "Epoch 35/100\n",
            "4/4 [==============================] - 0s 2ms/step - loss: 479.1039 - mse: 479.1039 - accuracy: 0.0000e+00\n",
            "Epoch 36/100\n",
            "4/4 [==============================] - 0s 4ms/step - loss: 463.7185 - mse: 463.7185 - accuracy: 0.0000e+00\n",
            "Epoch 37/100\n",
            "4/4 [==============================] - 0s 2ms/step - loss: 445.9374 - mse: 445.9374 - accuracy: 0.0000e+00\n",
            "Epoch 38/100\n",
            "4/4 [==============================] - 0s 3ms/step - loss: 423.2428 - mse: 423.2428 - accuracy: 0.0000e+00\n",
            "Epoch 39/100\n",
            "4/4 [==============================] - 0s 2ms/step - loss: 428.4510 - mse: 428.4510 - accuracy: 0.0000e+00\n",
            "Epoch 40/100\n",
            "4/4 [==============================] - 0s 2ms/step - loss: 365.6186 - mse: 365.6186 - accuracy: 0.0000e+00\n",
            "Epoch 41/100\n",
            "4/4 [==============================] - 0s 2ms/step - loss: 454.4994 - mse: 454.4994 - accuracy: 0.0000e+00\n",
            "Epoch 42/100\n",
            "4/4 [==============================] - 0s 3ms/step - loss: 456.3780 - mse: 456.3780 - accuracy: 0.0000e+00\n",
            "Epoch 43/100\n",
            "4/4 [==============================] - 0s 2ms/step - loss: 436.7952 - mse: 436.7952 - accuracy: 0.0000e+00\n",
            "Epoch 44/100\n",
            "4/4 [==============================] - 0s 2ms/step - loss: 410.9948 - mse: 410.9948 - accuracy: 0.0000e+00\n",
            "Epoch 45/100\n",
            "4/4 [==============================] - 0s 3ms/step - loss: 390.3970 - mse: 390.3970 - accuracy: 0.0000e+00\n",
            "Epoch 46/100\n",
            "4/4 [==============================] - 0s 3ms/step - loss: 407.5082 - mse: 407.5082 - accuracy: 0.0000e+00\n",
            "Epoch 47/100\n",
            "4/4 [==============================] - 0s 2ms/step - loss: 424.9144 - mse: 424.9144 - accuracy: 0.0000e+00\n",
            "Epoch 48/100\n",
            "4/4 [==============================] - 0s 3ms/step - loss: 380.4331 - mse: 380.4331 - accuracy: 0.0000e+00\n",
            "Epoch 49/100\n",
            "4/4 [==============================] - 0s 2ms/step - loss: 377.5831 - mse: 377.5831 - accuracy: 0.0000e+00\n",
            "Epoch 50/100\n",
            "4/4 [==============================] - 0s 3ms/step - loss: 389.2823 - mse: 389.2823 - accuracy: 0.0000e+00\n",
            "Epoch 51/100\n",
            "4/4 [==============================] - 0s 3ms/step - loss: 366.4577 - mse: 366.4577 - accuracy: 0.0000e+00\n",
            "Epoch 52/100\n",
            "4/4 [==============================] - 0s 3ms/step - loss: 380.2804 - mse: 380.2804 - accuracy: 0.0000e+00\n",
            "Epoch 53/100\n",
            "4/4 [==============================] - 0s 2ms/step - loss: 384.2901 - mse: 384.2901 - accuracy: 0.0000e+00\n",
            "Epoch 54/100\n",
            "4/4 [==============================] - 0s 2ms/step - loss: 421.4924 - mse: 421.4924 - accuracy: 0.0000e+00\n",
            "Epoch 55/100\n",
            "4/4 [==============================] - 0s 3ms/step - loss: 390.5599 - mse: 390.5599 - accuracy: 0.0000e+00\n",
            "Epoch 56/100\n",
            "4/4 [==============================] - 0s 2ms/step - loss: 388.4941 - mse: 388.4941 - accuracy: 0.0000e+00\n",
            "Epoch 57/100\n",
            "4/4 [==============================] - 0s 2ms/step - loss: 391.3415 - mse: 391.3415 - accuracy: 0.0000e+00\n",
            "Epoch 58/100\n",
            "4/4 [==============================] - 0s 2ms/step - loss: 368.2521 - mse: 368.2521 - accuracy: 0.0000e+00\n",
            "Epoch 59/100\n",
            "4/4 [==============================] - 0s 2ms/step - loss: 382.2728 - mse: 382.2728 - accuracy: 0.0000e+00\n",
            "Epoch 60/100\n",
            "4/4 [==============================] - 0s 2ms/step - loss: 365.0124 - mse: 365.0124 - accuracy: 0.0000e+00\n",
            "Epoch 61/100\n",
            "4/4 [==============================] - 0s 3ms/step - loss: 362.3057 - mse: 362.3057 - accuracy: 0.0000e+00\n",
            "Epoch 62/100\n",
            "4/4 [==============================] - 0s 2ms/step - loss: 370.0082 - mse: 370.0082 - accuracy: 0.0000e+00\n",
            "Epoch 63/100\n",
            "4/4 [==============================] - 0s 3ms/step - loss: 373.6485 - mse: 373.6485 - accuracy: 0.0000e+00\n",
            "Epoch 64/100\n",
            "4/4 [==============================] - 0s 2ms/step - loss: 316.3072 - mse: 316.3072 - accuracy: 0.0000e+00\n",
            "Epoch 65/100\n",
            "4/4 [==============================] - 0s 2ms/step - loss: 371.4391 - mse: 371.4391 - accuracy: 0.0000e+00\n",
            "Epoch 66/100\n",
            "4/4 [==============================] - 0s 2ms/step - loss: 391.7948 - mse: 391.7948 - accuracy: 0.0000e+00\n",
            "Epoch 67/100\n",
            "4/4 [==============================] - 0s 2ms/step - loss: 435.0979 - mse: 435.0979 - accuracy: 0.0000e+00\n",
            "Epoch 68/100\n",
            "4/4 [==============================] - 0s 2ms/step - loss: 359.4460 - mse: 359.4460 - accuracy: 0.0000e+00\n",
            "Epoch 69/100\n",
            "4/4 [==============================] - 0s 2ms/step - loss: 382.7395 - mse: 382.7395 - accuracy: 0.0000e+00\n",
            "Epoch 70/100\n",
            "4/4 [==============================] - 0s 2ms/step - loss: 388.7512 - mse: 388.7512 - accuracy: 0.0000e+00\n",
            "Epoch 71/100\n",
            "4/4 [==============================] - 0s 2ms/step - loss: 381.2559 - mse: 381.2559 - accuracy: 0.0000e+00\n",
            "Epoch 72/100\n",
            "4/4 [==============================] - 0s 3ms/step - loss: 339.8956 - mse: 339.8956 - accuracy: 0.0000e+00\n",
            "Epoch 73/100\n",
            "4/4 [==============================] - 0s 2ms/step - loss: 384.4525 - mse: 384.4525 - accuracy: 0.0000e+00\n",
            "Epoch 74/100\n",
            "4/4 [==============================] - 0s 2ms/step - loss: 376.7884 - mse: 376.7884 - accuracy: 0.0000e+00\n",
            "Epoch 75/100\n",
            "4/4 [==============================] - 0s 2ms/step - loss: 379.8669 - mse: 379.8669 - accuracy: 0.0000e+00\n",
            "Epoch 76/100\n",
            "4/4 [==============================] - 0s 3ms/step - loss: 333.7986 - mse: 333.7986 - accuracy: 0.0000e+00\n",
            "Epoch 77/100\n",
            "4/4 [==============================] - 0s 4ms/step - loss: 398.4745 - mse: 398.4745 - accuracy: 0.0000e+00\n",
            "Epoch 78/100\n",
            "4/4 [==============================] - 0s 2ms/step - loss: 339.8667 - mse: 339.8667 - accuracy: 0.0000e+00\n",
            "Epoch 79/100\n",
            "4/4 [==============================] - 0s 2ms/step - loss: 390.2636 - mse: 390.2636 - accuracy: 0.0000e+00\n",
            "Epoch 80/100\n",
            "4/4 [==============================] - 0s 3ms/step - loss: 313.9509 - mse: 313.9509 - accuracy: 0.0000e+00\n",
            "Epoch 81/100\n",
            "4/4 [==============================] - 0s 2ms/step - loss: 377.1568 - mse: 377.1568 - accuracy: 0.0000e+00\n",
            "Epoch 82/100\n",
            "4/4 [==============================] - 0s 3ms/step - loss: 369.6498 - mse: 369.6498 - accuracy: 0.0000e+00\n",
            "Epoch 83/100\n",
            "4/4 [==============================] - 0s 2ms/step - loss: 339.9907 - mse: 339.9907 - accuracy: 0.0000e+00\n",
            "Epoch 84/100\n",
            "4/4 [==============================] - 0s 3ms/step - loss: 370.9768 - mse: 370.9768 - accuracy: 0.0000e+00\n",
            "Epoch 85/100\n",
            "4/4 [==============================] - 0s 2ms/step - loss: 347.5016 - mse: 347.5016 - accuracy: 0.0000e+00\n",
            "Epoch 86/100\n",
            "4/4 [==============================] - 0s 3ms/step - loss: 376.6712 - mse: 376.6712 - accuracy: 0.0000e+00\n",
            "Epoch 87/100\n",
            "4/4 [==============================] - 0s 2ms/step - loss: 355.2031 - mse: 355.2031 - accuracy: 0.0000e+00\n",
            "Epoch 88/100\n",
            "4/4 [==============================] - 0s 2ms/step - loss: 391.3142 - mse: 391.3142 - accuracy: 0.0000e+00\n",
            "Epoch 89/100\n",
            "4/4 [==============================] - 0s 2ms/step - loss: 375.8855 - mse: 375.8855 - accuracy: 0.0000e+00\n",
            "Epoch 90/100\n",
            "4/4 [==============================] - 0s 2ms/step - loss: 394.8716 - mse: 394.8716 - accuracy: 0.0000e+00\n",
            "Epoch 91/100\n",
            "4/4 [==============================] - 0s 3ms/step - loss: 390.4616 - mse: 390.4616 - accuracy: 0.0000e+00\n",
            "Epoch 92/100\n",
            "4/4 [==============================] - 0s 2ms/step - loss: 342.8656 - mse: 342.8656 - accuracy: 0.0000e+00\n",
            "Epoch 93/100\n",
            "4/4 [==============================] - 0s 2ms/step - loss: 367.8399 - mse: 367.8399 - accuracy: 0.0000e+00\n",
            "Epoch 94/100\n",
            "4/4 [==============================] - 0s 4ms/step - loss: 365.5838 - mse: 365.5838 - accuracy: 0.0000e+00\n",
            "Epoch 95/100\n",
            "4/4 [==============================] - 0s 3ms/step - loss: 394.9311 - mse: 394.9311 - accuracy: 0.0000e+00\n",
            "Epoch 96/100\n",
            "4/4 [==============================] - 0s 2ms/step - loss: 374.9891 - mse: 374.9891 - accuracy: 0.0000e+00\n",
            "Epoch 97/100\n",
            "4/4 [==============================] - 0s 2ms/step - loss: 352.4368 - mse: 352.4368 - accuracy: 0.0000e+00\n",
            "Epoch 98/100\n",
            "4/4 [==============================] - 0s 2ms/step - loss: 336.0574 - mse: 336.0574 - accuracy: 0.0000e+00\n",
            "Epoch 99/100\n",
            "4/4 [==============================] - 0s 3ms/step - loss: 321.8436 - mse: 321.8436 - accuracy: 0.0000e+00\n",
            "Epoch 100/100\n",
            "4/4 [==============================] - 0s 3ms/step - loss: 383.9582 - mse: 383.9582 - accuracy: 0.0000e+00\n"
          ],
          "name": "stdout"
        }
      ]
    },
    {
      "cell_type": "code",
      "metadata": {
        "colab": {
          "base_uri": "https://localhost:8080/",
          "height": 282
        },
        "id": "tAhz39NZCyTk",
        "outputId": "d3cb9ad5-bde8-48bf-82ae-c91da752f6d3"
      },
      "source": [
        "plt.plot(history.history['loss'])"
      ],
      "execution_count": 38,
      "outputs": [
        {
          "output_type": "execute_result",
          "data": {
            "text/plain": [
              "[<matplotlib.lines.Line2D at 0x7f2247002f60>]"
            ]
          },
          "metadata": {
            "tags": []
          },
          "execution_count": 38
        },
        {
          "output_type": "display_data",
          "data": {
            "image/png": "[encoded data removed]",
            "text/plain": [
              "<Figure size 432x288 with 1 Axes>"
            ]
          },
          "metadata": {
            "tags": [],
            "needs_background": "light"
          }
        }
      ]
    },
    {
      "cell_type": "code",
      "metadata": {
        "colab": {
          "base_uri": "https://localhost:8080/"
        },
        "id": "qId7nfpLCyTm",
        "outputId": "9ca37f87-9dfb-4392-8414-6a0dfac3bf1b"
      },
      "source": [
        "lr3.get_weights()"
      ],
      "execution_count": 39,
      "outputs": [
        {
          "output_type": "execute_result",
          "data": {
            "text/plain": [
              "[array([[82.38395]], dtype=float32), array([-3.3899868], dtype=float32)]"
            ]
          },
          "metadata": {
            "tags": []
          },
          "execution_count": 39
        }
      ]
    },
    {
      "cell_type": "code",
      "metadata": {
        "id": "o4StbeyQ1i_e"
      },
      "source": [
        ""
      ],
      "execution_count": null,
      "outputs": []
    }
  ]
}